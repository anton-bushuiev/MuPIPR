{
 "cells": [
  {
   "cell_type": "markdown",
   "metadata": {},
   "source": [
    "# This notebook serves as an example for processing the binding affinity data from SKEMPI. "
   ]
  },
  {
   "cell_type": "code",
   "execution_count": 9,
   "metadata": {},
   "outputs": [],
   "source": [
    "from Bio.PDB import *\n",
    "import pandas as pd\n",
    "import warnings\n",
    "from Bio import BiopythonWarning\n",
    "warnings.simplefilter('ignore', BiopythonWarning)\n",
    "import csv\n",
    "import numpy as np\n",
    "from Bio.PDB.Polypeptide import three_to_one, one_to_three\n",
    "import math\n",
    "from tqdm.auto import tqdm"
   ]
  },
  {
   "cell_type": "markdown",
   "metadata": {},
   "source": [
    "## Function for loading SKEMPI.csv file"
   ]
  },
  {
   "cell_type": "code",
   "execution_count": 10,
   "metadata": {},
   "outputs": [],
   "source": [
    "def load_pd(fName):\n",
    "    df = pd.read_csv(fName, sep = ';')\n",
    "    df = df.dropna(subset = ['Affinity_mut_parsed', 'Affinity_wt_parsed', 'Temperature'])\n",
    "    return df\n"
   ]
  },
  {
   "cell_type": "markdown",
   "metadata": {},
   "source": [
    "## Function for generating the sequence from PDB ID. Note that you need to have a folder (./skempi_v2/PDBs/) of pre-downloaded PDB files. "
   ]
  },
  {
   "cell_type": "code",
   "execution_count": 11,
   "metadata": {},
   "outputs": [],
   "source": [
    "def get_seq(ent_name, mutation_pdb, chains, affinity, temp, seq_dict):\n",
    "    \n",
    "    chain_ID, residue_ID, r_w, r_m = mutation_pdb[1], mutation_pdb[2:-1], mutation_pdb[0], mutation_pdb[-1]\n",
    "#     print('chain_ID, residue_ID, r_w, r_m',chain_ID, residue_ID, r_w, r_m)\n",
    "    \n",
    "        \n",
    "    parser = PDBParser()\n",
    "    structure = parser.get_structure(ent_name, './skempi_v2/PDBs/' + ent_name + '.pdb')\n",
    "#     print(structure)\n",
    "    assert(len(structure) == 1)\n",
    "    model = structure[0]\n",
    "\n",
    "#     for elem in model.get_chains():\n",
    "#         print(elem)\n",
    "    w_seq0 = ''\n",
    "\n",
    "    for each_chain in chains[0]:\n",
    "#         print(each_chain,)\n",
    "        chain0 = model[each_chain]\n",
    "        ppb = PPBuilder()\n",
    "        for pp in ppb.build_peptides(chain0):\n",
    "    #         print('Ch0',pp.get_sequence())\n",
    "            w_seq0 += pp.get_sequence()\n",
    "\n",
    "    w_seq1 = ''\n",
    "    for each_chain in chains[1]:\n",
    "#         print(each_chain,)\n",
    "        chain1 = model[each_chain]\n",
    "        for pp in ppb.build_peptides(chain1):\n",
    "    #         print('Ch1',pp.get_sequence())\n",
    "            w_seq1 += pp.get_sequence()\n",
    "\n",
    "    w_name0 = mut_name0 = ent_name+'_'+chains[0]\n",
    "    w_name1 = mut_name1 = ent_name+'_'+chains[1]\n",
    "#     print(\"Wildtype\", w_name0, w_name1)\n",
    "#     print(w_seq0)\n",
    "#     print(w_seq1)\n",
    "    \n",
    "    if w_name0 not in seq_dict:\n",
    "        seq_dict[w_name0] = w_seq0\n",
    "    if w_name1 not in seq_dict:\n",
    "        seq_dict[w_name1] = w_seq1\n",
    "    \n",
    "#     Mutation\n",
    "    mut_chain = model[chain_ID]\n",
    "    \n",
    "    if residue_ID.isdigit():\n",
    "#         print(residue_ID)\n",
    "        residue = mut_chain[int(residue_ID)]\n",
    "    else:\n",
    "#         print(residue_ID[:-1], residue_ID[-1])\n",
    "        residue = mut_chain[(' ', int(residue_ID[:-1]), residue_ID[-1].upper())]\n",
    "\n",
    "    print(residue.resname, three_to_one(residue.resname), one_to_three(r_m))\n",
    "    assert(three_to_one(residue.resname) == r_w)\n",
    "\n",
    "    residue.resname = one_to_three(r_m)\n",
    "    \n",
    "    m_seq0 = ''\n",
    "    m_seq1 = ''\n",
    "\n",
    "#     chain_ID, residue_ID, r_w, r_m = mutation_pdb[1], mutation_pdb[2:-1], mutation_pdb[0], mutation_pdb[-1]\n",
    "    \n",
    "    for each_chain in chains[0]:\n",
    "        chain0 = model[each_chain]\n",
    "#         print(chain_ID, chain0)\n",
    "        if chain_ID == chain0.id:\n",
    "#             print(\"mutation on 1st chain\")\n",
    "#             mut_name0 = ent_name+'_'+chains[0] + '_' + mutation_pdb\n",
    "            mut_name0 = ent_name+'_'+chains[0] + '_' + one_to_three(r_w) + str(residue_ID) + one_to_three(r_m)\n",
    "\n",
    "#             m_seq0 = ''\n",
    "            for pp in ppb.build_peptides(chain0):\n",
    "                m_seq0 += pp.get_sequence()\n",
    "        else:\n",
    "            for pp in ppb.build_peptides(chain0):\n",
    "                m_seq0 += pp.get_sequence()\n",
    "    \n",
    "    for each_chain in chains[1]:\n",
    "        chain1 = model[each_chain]\n",
    "#         print(chain_ID, chain1)\n",
    "        if chain_ID == chain1.id:\n",
    "#             print(\"mutation on 2nd chain\")\n",
    "#             mut_name1 = ent_name+'_'+chains[1] + '_' + mutation_pdb\n",
    "            mut_name1 = ent_name+'_'+chains[1] + '_' + one_to_three(r_w) + str(residue_ID) + one_to_three(r_m)\n",
    "#             m_seq0 = ''\n",
    "            for pp in ppb.build_peptides(chain1):\n",
    "                m_seq1 += pp.get_sequence()\n",
    "        else:\n",
    "            for pp in ppb.build_peptides(chain1):\n",
    "                m_seq1 += pp.get_sequence()\n",
    "\n",
    "    if mut_name0 not in seq_dict:\n",
    "        seq_dict[mut_name0] = m_seq0\n",
    "    if mut_name1 not in seq_dict:\n",
    "        seq_dict[mut_name1] = m_seq1\n",
    "    dG_w =  (8.314/4184)*(float(temp)) * math.log(float(affinity[1]))\n",
    "    dG_m = (8.314/4184)*(float(temp)) * math.log(float(affinity[0]))\n",
    "    print(\"dG_w, dG_m, ddG\",dG_w, dG_m, dG_m - dG_w)\n",
    "#     fout.write(w_name0, w_name1,mut_name0, mut_name1,dG_w, dG_m, dG_m - dG_w)\n",
    "    print(w_name0, w_name1,mut_name0, mut_name1,dG_w, dG_m, dG_m - dG_w, file=open(\"./skempi_v2.singlemut.ddg.score.txt\", \"a\"))\n",
    "#     print(w_name0, w_name1,mut_name0, mut_name1,dG_w, dG_m, dG_m - dG_w, file=open(\"./skempi_v2.mut4.ddg.score.txt\", \"a\"))\n",
    "    return seq_dict\n"
   ]
  },
  {
   "cell_type": "markdown",
   "metadata": {},
   "source": [
    "## Function for processing the binding affinity scores"
   ]
  },
  {
   "cell_type": "code",
   "execution_count": 12,
   "metadata": {},
   "outputs": [],
   "source": [
    "# download_all_pdb(ppi)\n",
    "def get_score(ent_name, mutation_pdb, chains, affinity, temp):\n",
    "    \n",
    "    chain_ID, residue_ID, r_w, r_m = mutation_pdb[1], mutation_pdb[2:-1], mutation_pdb[0], mutation_pdb[-1]\n",
    "#     print('chain_ID, residue_ID, r_w, r_m',chain_ID, residue_ID, r_w, r_m)\n",
    "    \n",
    "        \n",
    "    w_name0 = mut_name0 = ent_name+'_'+chains[0]\n",
    "    w_name1 = mut_name1 = ent_name+'_'+chains[1]\n",
    "#     print(\"Wildtype\", w_name0, w_name1)\n",
    "    \n",
    "#     Mutation\n",
    "    \n",
    "    for each_chain in chains[0]:\n",
    "#         print(chain_ID, chain0)\n",
    "        if chain_ID == each_chain:\n",
    "#             print(\"mutation on 1st chain\")\n",
    "            mut_name0 = ent_name+'_'+chains[0] + '_' + one_to_three(r_w) + str(residue_ID) + one_to_three(r_m)\n",
    "    \n",
    "    for each_chain in chains[1]:\n",
    "#         print(chain_ID, chain1)\n",
    "        if chain_ID == each_chain:\n",
    "#             print(\"mutation on 2nd chain\")\n",
    "            mut_name1 = ent_name+'_'+chains[1] + '_' + one_to_three(r_w) + str(residue_ID) + one_to_three(r_m)\n",
    "\n",
    "    dG_w =  (8.314/4184)*(float(temp)) * math.log(float(affinity[1]))\n",
    "    dG_m = (8.314/4184)*(float(temp)) * math.log(float(affinity[0]))\n",
    "    print(w_name0, w_name1,mut_name0, mut_name1,dG_w, dG_m, dG_m - dG_w)\n",
    "    print(w_name0, w_name1,mut_name0, mut_name1,dG_w, dG_m, dG_m - dG_w, file=open(\"./skempi_v2.singlemut.ddg.score.txt\", \"a\"))\n",
    "    return seq_dict\n"
   ]
  },
  {
   "cell_type": "markdown",
   "metadata": {},
   "source": [
    "## Please provide the SKEMPI file here. In our demo, we choose to use SKEMPI version 2 downloaded from https://life.bsc.es/pid/skempi2/database/index"
   ]
  },
  {
   "cell_type": "code",
   "execution_count": 13,
   "metadata": {},
   "outputs": [
    {
     "name": "stdout",
     "output_type": "stream",
     "text": [
      "Size of the data: (13552, 29)\n",
      "[['1CSE_E_I' 'LI45G' 'LI38G' ... nan 'IASP' 1]\n",
      " ['1CSE_E_I' 'LI45S' 'LI38S' ... nan 'IASP' 1]\n",
      " ['1CSE_E_I' 'LI45P' 'LI38P' ... nan 'IASP' 1]\n",
      " ...\n",
      " ['2WPT_A_B' nan 'AB77S,AA31N' ... nan 'ITC' 2]\n",
      " ['3QIB_ABP_CD' nan 'AA67K,AB64E' ... nan 'SPR' 2]\n",
      " ['3QIB_ABP_CD' nan 'FP6Y,SP11T' ... nan 'SPR' 2]]\n",
      "Top 10 samples are selected for demo purpose.\n"
     ]
    }
   ],
   "source": [
    "skepiIn = \"./skempi_v2/skempi_v2_for_MuPIPR.csv\"\n",
    "ppi = load_pd(skepiIn)\n",
    "print(\"Size of the data:\", ppi.shape)\n",
    "\n",
    "ppi = np.array(ppi)\n",
    "print(ppi)\n",
    "\n",
    "# process temperature at 13\n",
    "select_N = 10\n",
    "# select_N = len(ppi)\n",
    "print(\"Top \" + str(select_N) + \" samples are selected for demo purpose.\")\n",
    "for i in range(select_N):\n",
    "    elem = ppi[i, 13].strip()\n",
    "    ppi[i, 13] = elem[:3]"
   ]
  },
  {
   "cell_type": "markdown",
   "metadata": {},
   "source": [
    "## The main processing part. The processed file will be saved. "
   ]
  },
  {
   "cell_type": "markdown",
   "metadata": {},
   "source": [
    "#### Two output : \"./skempi_v2/singlemut.ddg.score.txt \" denotes the processed score file, and \"./skempi_v2.singlemut.mut4.seq.txt\" denotes the processed sequence file.\n",
    "The processed score file contains 7 fields for each row: Protein_wild_1, Protein_wild_1, Protein_mutant_1, Protein_mutant_2, $\\Delta{G_w}$, $\\Delta{G_m}$, $\\Delta\\Delta{G}$"
   ]
  },
  {
   "cell_type": "code",
   "execution_count": 14,
   "metadata": {
    "pycharm": {
     "name": "#%%\n"
    }
   },
   "outputs": [
    {
     "name": "stdout",
     "output_type": "stream",
     "text": [
      "(13552, 29)\n"
     ]
    },
    {
     "data": {
      "text/plain": "  0%|          | 0/10 [00:00<?, ?it/s]",
      "application/vnd.jupyter.widget-view+json": {
       "version_major": 2,
       "version_minor": 0,
       "model_id": "98a8f58b8ade40c19e4d21dbc9aa1c33"
      }
     },
     "metadata": {},
     "output_type": "display_data"
    },
    {
     "name": "stdout",
     "output_type": "stream",
     "text": [
      "0 ['1CSE_E_I' 'LI45G' 'LI38G'] 294 [5.26e-11 1.12e-12]\n",
      "LEU L GLY\n",
      "dG_w, dG_m, ddG -16.075988501732105 -13.827155017938493 2.2488334837936126\n",
      "1CSE_E 1CSE_I 1CSE_E 1CSE_I_LEU38GLY -16.075988501732105 -13.827155017938493 2.2488334837936126\n",
      "1 ['1CSE_E_I' 'LI45S' 'LI38S'] 294 [8.33e-12 1.12e-12]\n",
      "LEU L SER\n",
      "dG_w, dG_m, ddG -16.075988501732105 -14.903759762487807 1.1722287392442983\n",
      "1CSE_E 1CSE_I 1CSE_E 1CSE_I_LEU38SER -16.075988501732105 -14.903759762487807 1.1722287392442983\n",
      "2 ['1CSE_E_I' 'LI45P' 'LI38P'] 294 [1.02e-07 1.12e-12]\n",
      "LEU L PRO\n",
      "dG_w, dG_m, ddG -16.075988501732105 -9.404712048380915 6.67127645335119\n",
      "1CSE_E 1CSE_I 1CSE_E 1CSE_I_LEU38PRO -16.075988501732105 -9.404712048380915 6.67127645335119\n",
      "3 ['1CSE_E_I' 'LI45I' 'LI38I'] 294 [1.72e-10 1.12e-12]\n",
      "LEU L ILE\n",
      "dG_w, dG_m, ddG -16.075988501732105 -13.135000932221619 2.9409875695104866\n",
      "1CSE_E 1CSE_I 1CSE_E 1CSE_I_LEU38ILE -16.075988501732105 -13.135000932221619 2.9409875695104866\n",
      "4 ['1CSE_E_I' 'LI45D' 'LI38D'] 294 [1.92e-09 1.12e-12]\n",
      "LEU L ASP\n",
      "dG_w, dG_m, ddG -16.075988501732105 -11.725554820282436 4.350433681449669\n",
      "1CSE_E 1CSE_I 1CSE_E 1CSE_I_LEU38ASP -16.075988501732105 -11.725554820282436 4.350433681449669\n",
      "5 ['1CSE_E_I' 'LI45E' 'LI38E'] 294 [6.25e-11 1.12e-12]\n",
      "LEU L GLU\n",
      "dG_w, dG_m, ddG -16.075988501732105 -13.726408516417724 2.3495799853143815\n",
      "1CSE_E 1CSE_I 1CSE_E 1CSE_I_LEU38GLU -16.075988501732105 -13.726408516417724 2.3495799853143815\n",
      "6 ['1ACB_E_I' 'LI45G' 'LI38G'] 294 [4.55e-08 1.49e-12]\n",
      "LEU L GLY\n",
      "dG_w, dG_m, ddG -15.90922852762244 -9.87631810128294 6.0329104263395\n",
      "1ACB_E 1ACB_I 1ACB_E 1ACB_I_LEU38GLY -15.90922852762244 -9.87631810128294 6.0329104263395\n",
      "7 ['1ACB_E_I' 'LI45S' 'LI38S'] 294 [7.14e-09 1.49e-12]\n",
      "LEU L SER\n",
      "dG_w, dG_m, ddG -15.90922852762244 -10.958266507375987 4.950962020246454\n",
      "1ACB_E 1ACB_I 1ACB_E 1ACB_I_LEU38SER -15.90922852762244 -10.958266507375987 4.950962020246454\n",
      "8 ['1ACB_E_I' 'LI45P' 'LI38P'] 294 [1.85e-07 1.49e-12]\n",
      "LEU L PRO\n",
      "dG_w, dG_m, ddG -15.90922852762244 -9.056885991531873 6.852342536090568\n",
      "1ACB_E 1ACB_I 1ACB_E 1ACB_I_LEU38PRO -15.90922852762244 -9.056885991531873 6.852342536090568\n",
      "9 ['1ACB_E_I' 'LI45I' 'LI38I'] 294 [2.08e-09 1.49e-12]\n",
      "LEU L ILE\n",
      "dG_w, dG_m, ddG -15.90922852762244 -11.6787934266281 4.23043510099434\n",
      "1ACB_E 1ACB_I 1ACB_E 1ACB_I_LEU38ILE -15.90922852762244 -11.6787934266281 4.23043510099434\n"
     ]
    }
   ],
   "source": [
    "mult_mutation = 0\n",
    "seq_dict = {}\n",
    "\n",
    "\n",
    "cnt_single_chain = cnt_both_chain = 0\n",
    "\n",
    "# f1 = open(\"./skempi_v2.ddg.score.txt\", \"w\")\n",
    "# f2 = open(\"./skempi_v2.mut4.seq.txt\", \"w\")\n",
    "print(ppi.shape)\n",
    "\n",
    "for i in tqdm(range(select_N)):\n",
    "# for i in range(10):\n",
    "#     print(ppi[i,:])\n",
    "    ent_name = ppi[i,0][:4]\n",
    "#     .lower()\n",
    "    chains = ppi[i,0].split('_')[1:]\n",
    "    assert(len(chains) == 2)\n",
    "#     print(i, len(ppi))\n",
    "    affinity = ppi[i,(7,9)]\n",
    "    temp = ppi[i,13]\n",
    "    print(i, ppi[i, :3], temp, affinity)\n",
    "    mutations_pdb = ppi[i][2].split(',')\n",
    "#     if len(mutations_pdb) == 1:\n",
    "    get_seq(ent_name, mutations_pdb[0], chains, affinity, temp, seq_dict)\n",
    "    get_score(ent_name, mutations_pdb[0], chains, affinity, temp)\n",
    "\n",
    "for elem in seq_dict:\n",
    "    print(elem, seq_dict[elem], file=open(\"./skempi_v2.singlemut.mut4.seq.txt\", \"a\"))"
   ]
  }
 ],
 "metadata": {
  "kernelspec": {
   "display_name": "Python 3",
   "language": "python",
   "name": "python3"
  },
  "language_info": {
   "codemirror_mode": {
    "name": "ipython",
    "version": 3
   },
   "file_extension": ".py",
   "mimetype": "text/x-python",
   "name": "python",
   "nbconvert_exporter": "python",
   "pygments_lexer": "ipython3",
   "version": "3.6.8"
  }
 },
 "nbformat": 4,
 "nbformat_minor": 2
}